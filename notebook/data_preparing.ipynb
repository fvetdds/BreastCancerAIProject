{
 "cells": [
  {
   "cell_type": "code",
   "execution_count": 1,
   "id": "60d8296c-c3a5-42f2-be88-68b877145ac5",
   "metadata": {},
   "outputs": [
    {
     "name": "stdout",
     "output_type": "stream",
     "text": [
      "Loaded ../data/bcsc_risk_factors_summarized1_092020.csv, shape: (509410, 13)\n",
      "Loaded ../data/bcsc_risk_factors_summarized2_092020.csv, shape: (506465, 13)\n",
      "Loaded ../data/bcsc_risk_factors_summarized3_092020.csv, shape: (506465, 13)\n",
      "DataFrame shape after dropping: (1191438, 13)\n",
      "Dropped rows: 330902\n"
     ]
    }
   ],
   "source": [
    "import pandas as pd\n",
    "\n",
    "bcsc_paths = [\n",
    "    \"../data/bcsc_risk_factors_summarized1_092020.csv\",\n",
    "    \"../data/bcsc_risk_factors_summarized2_092020.csv\",\n",
    "    \"../data/bcsc_risk_factors_summarized3_092020.csv\"\n",
    "]\n",
    "\n",
    "df_list = []\n",
    "for path in bcsc_paths:\n",
    "    df = pd.read_csv(path)\n",
    "    print(f\"Loaded {path}, shape: {df.shape}\")\n",
    "    df_list.append(df)\n",
    "\n",
    "bcsc_df = pd.concat(df_list, ignore_index=True)\n",
    "bcsc_df_clean = bcsc_df[bcsc_df['breast_cancer_history'] != 9].reset_index(drop=True)\n",
    "print(f\"DataFrame shape after dropping: {bcsc_df_clean.shape}\")\n",
    "\n",
    "# Count how many rows dropped\n",
    "dropped_count = bcsc_df.shape[0] - bcsc_df_clean.shape[0]\n",
    "print(f\"Dropped rows: {dropped_count}\")\n",
    "\n",
    "# 3. Save cleaned concatenated DataFrame\n",
    "df_clean_path = \"../data/bcsc_concatenated_no_hist9.csv\"\n",
    "bcsc_df_clean.to_csv(df_clean_path, index=False)\n"
   ]
  },
  {
   "cell_type": "code",
   "execution_count": 5,
   "id": "55c67743-6c6c-4485-ae50-fa2e6544d60b",
   "metadata": {},
   "outputs": [
    {
     "name": "stdout",
     "output_type": "stream",
     "text": [
      "   year  age_group_5_years  race_eth  first_degree_hx  age_menarche  \\\n",
      "0  2013                  7         1                0             9   \n",
      "1  2013                  7         1                0             9   \n",
      "\n",
      "   age_first_birth  BIRADS_breast_density  current_hrt  menopaus  bmi_group  \\\n",
      "0                3                      1            1         2          3   \n",
      "1                3                      1            1         2          3   \n",
      "\n",
      "   biophx  breast_cancer_history  count  \n",
      "0       0                      0      7  \n",
      "1       1                      0      3  \n"
     ]
    }
   ],
   "source": [
    "df = pd.read_csv('../data/bcsc_concatenated_no_hist9.csv')\n",
    "print(risk_factors.head(2))"
   ]
  },
  {
   "cell_type": "code",
   "execution_count": 6,
   "id": "7696b515-f880-41c5-93dc-f0a69be9f78b",
   "metadata": {},
   "outputs": [
    {
     "name": "stdout",
     "output_type": "stream",
     "text": [
      "Dropped column: count\n",
      "Dropped column: year\n",
      "Filtered out 0 rows with breast_cancer_history == 9.\n",
      "Training shape: (953150, 10), Test shape: (238288, 10)\n"
     ]
    },
    {
     "name": "stderr",
     "output_type": "stream",
     "text": [
      "C:\\Users\\vetdd\\anaconda3\\Lib\\site-packages\\xgboost\\training.py:183: UserWarning: [00:09:49] WARNING: C:\\actions-runner\\_work\\xgboost\\xgboost\\src\\learner.cc:738: \n",
      "Parameters: { \"use_label_encoder\" } are not used.\n",
      "\n",
      "  bst.update(dtrain, iteration=i, fobj=obj)\n"
     ]
    },
    {
     "name": "stdout",
     "output_type": "stream",
     "text": [
      "Model training finished.\n",
      "Classification Report:\n",
      "              precision    recall  f1-score   support\n",
      "\n",
      "           0       0.84      0.97      0.90    193933\n",
      "           1       0.62      0.19      0.29     44355\n",
      "\n",
      "    accuracy                           0.83    238288\n",
      "   macro avg       0.73      0.58      0.60    238288\n",
      "weighted avg       0.80      0.83      0.79    238288\n",
      "\n",
      "ROC AUC: 0.8283\n"
     ]
    },
    {
     "ename": "FileNotFoundError",
     "evalue": "[Errno 2] No such file or directory: 'data\\\\bcsc_xgb_model.pkl'",
     "output_type": "error",
     "traceback": [
      "\u001b[1;31m---------------------------------------------------------------------------\u001b[0m",
      "\u001b[1;31mFileNotFoundError\u001b[0m                         Traceback (most recent call last)",
      "Cell \u001b[1;32mIn[6], line 91\u001b[0m\n\u001b[0;32m     89\u001b[0m MODEL_PATH \u001b[38;5;241m=\u001b[39m os\u001b[38;5;241m.\u001b[39mpath\u001b[38;5;241m.\u001b[39mjoin(DATA_DIR, \u001b[38;5;124m\"\u001b[39m\u001b[38;5;124mbcsc_xgb_model.pkl\u001b[39m\u001b[38;5;124m\"\u001b[39m)\n\u001b[0;32m     90\u001b[0m ENCODERS_PATH \u001b[38;5;241m=\u001b[39m os\u001b[38;5;241m.\u001b[39mpath\u001b[38;5;241m.\u001b[39mjoin(DATA_DIR, \u001b[38;5;124m\"\u001b[39m\u001b[38;5;124mbcsc_feature_encoders.pkl\u001b[39m\u001b[38;5;124m\"\u001b[39m)\n\u001b[1;32m---> 91\u001b[0m joblib\u001b[38;5;241m.\u001b[39mdump(model, MODEL_PATH)\n\u001b[0;32m     92\u001b[0m \u001b[38;5;28mprint\u001b[39m(\u001b[38;5;124mf\u001b[39m\u001b[38;5;124m\"\u001b[39m\u001b[38;5;124mSaved model to \u001b[39m\u001b[38;5;132;01m{\u001b[39;00mMODEL_PATH\u001b[38;5;132;01m}\u001b[39;00m\u001b[38;5;124m\"\u001b[39m)\n\u001b[0;32m     93\u001b[0m joblib\u001b[38;5;241m.\u001b[39mdump(feature_encoders, ENCODERS_PATH)\n",
      "File \u001b[1;32m~\\anaconda3\\Lib\\site-packages\\joblib\\numpy_pickle.py:552\u001b[0m, in \u001b[0;36mdump\u001b[1;34m(value, filename, compress, protocol, cache_size)\u001b[0m\n\u001b[0;32m    550\u001b[0m         NumpyPickler(f, protocol\u001b[38;5;241m=\u001b[39mprotocol)\u001b[38;5;241m.\u001b[39mdump(value)\n\u001b[0;32m    551\u001b[0m \u001b[38;5;28;01melif\u001b[39;00m is_filename:\n\u001b[1;32m--> 552\u001b[0m     \u001b[38;5;28;01mwith\u001b[39;00m \u001b[38;5;28mopen\u001b[39m(filename, \u001b[38;5;124m'\u001b[39m\u001b[38;5;124mwb\u001b[39m\u001b[38;5;124m'\u001b[39m) \u001b[38;5;28;01mas\u001b[39;00m f:\n\u001b[0;32m    553\u001b[0m         NumpyPickler(f, protocol\u001b[38;5;241m=\u001b[39mprotocol)\u001b[38;5;241m.\u001b[39mdump(value)\n\u001b[0;32m    554\u001b[0m \u001b[38;5;28;01melse\u001b[39;00m:\n",
      "\u001b[1;31mFileNotFoundError\u001b[0m: [Errno 2] No such file or directory: 'data\\\\bcsc_xgb_model.pkl'"
     ]
    }
   ],
   "source": [
    "import os\n",
    "import pandas as pd\n",
    "import numpy as np\n",
    "from sklearn.model_selection import train_test_split\n",
    "from sklearn.preprocessing import LabelEncoder\n",
    "from sklearn.metrics import classification_report, roc_auc_score\n",
    "import xgboost as xgb\n",
    "import joblib\n",
    "\n",
    "for c in [\"count\", \"year\"]:\n",
    "    if c in df.columns:\n",
    "        df.drop(columns=[c], inplace=True)\n",
    "        print(f\"Dropped column: {c}\")\n",
    "\n",
    "# 4) Filter out 'Unknown' target values -> breast_cancer_history == 9\n",
    "if 'breast_cancer_history' not in df.columns:\n",
    "    raise KeyError(\"Target column 'breast_cancer_history' not found.\")\n",
    "initial_count = df.shape[0]\n",
    "df = df[df['breast_cancer_history'] != 9].reset_index(drop=True)\n",
    "filtered_count = df.shape[0]\n",
    "print(f\"Filtered out {initial_count - filtered_count} rows with breast_cancer_history == 9.\")\n",
    "\n",
    "# 5) Separate features (X) and target (y)\n",
    "X = df.drop(columns=[\"breast_cancer_history\"])\n",
    "\n",
    "y = df[\"breast_cancer_history\"]\n",
    "\n",
    "# 6) Handle missing values\n",
    "for col in X.columns:\n",
    "    if X[col].isnull().any():\n",
    "        if X[col].dtype in [np.float64, np.int64]:\n",
    "            median_val = X[col].median()\n",
    "            X[col] = X[col].fillna(median_val)\n",
    "            print(f\"Filled missing numeric column '{col}' with median = {median_val}\")\n",
    "        else:\n",
    "            mode_vals = X[col].mode()\n",
    "            fill_val = mode_vals[0] if not mode_vals.empty else \"Unknown\"\n",
    "            X[col] = X[col].fillna(fill_val)\n",
    "            print(f\"Filled missing categorical column '{col}' with mode = {fill_val}\")\n",
    "\n",
    "# 7) Encode categorical features\n",
    "feature_encoders = {}\n",
    "for col in X.select_dtypes(include=[\"object\", \"category\"]).columns:\n",
    "    le = LabelEncoder()\n",
    "    X[col] = le.fit_transform(X[col].astype(str))\n",
    "    feature_encoders[col] = le\n",
    "    print(f\"Encoded '{col}' with classes: {list(le.classes_)}\")\n",
    "\n",
    "# 8) Encode target if needed (likely numeric 0 or 1, so skip if numeric)\n",
    "if y.dtype == 'object' or str(y.dtype).startswith('category'):\n",
    "    target_le = LabelEncoder()\n",
    "    y = target_le.fit_transform(y.astype(str))\n",
    "    print(f\"Encoded target 'breast_cancer_history' with classes: {list(target_le.classes_)}\")\n",
    "else:\n",
    "    target_le = None\n",
    "\n",
    "# 9) Train/Test split\n",
    "X_train, X_test, y_train, y_test = train_test_split(\n",
    "    X, y, test_size=0.20, random_state=42, stratify=y if len(np.unique(y))>1 else None\n",
    ")\n",
    "print(f\"Training shape: {X_train.shape}, Test shape: {X_test.shape}\")\n",
    "\n",
    "# 10) Train XGBoost classifier\n",
    "model = xgb.XGBClassifier(\n",
    "    n_estimators=100,\n",
    "    max_depth=4,\n",
    "    learning_rate=0.1,\n",
    "    subsample=0.8,\n",
    "    colsample_bytree=0.8,\n",
    "    use_label_encoder=False,\n",
    "    eval_metric=\"logloss\",\n",
    "    random_state=42\n",
    ")\n",
    "model.fit(X_train, y_train)\n",
    "print(\"Model training finished.\")\n",
    "\n",
    "# 11) Evaluate\n",
    "y_pred = model.predict(X_test)\n",
    "print(\"Classification Report:\")\n",
    "print(classification_report(y_test, y_pred))\n",
    "try:\n",
    "    y_pred_prob = model.predict_proba(X_test)[:, 1]\n",
    "    auc = roc_auc_score(y_test, y_pred_prob)\n",
    "    print(f\"ROC AUC: {auc:.4f}\")\n",
    "except:\n",
    "    print(\"Could not compute ROC AUC (possible single-class).\")\n",
    "\n",
    "# 12) Save artifacts\n",
    "MODEL_PATH = os.path.join(DATA_DIR, \"bcsc_xgb_model.pkl\")\n",
    "ENCODERS_PATH = os.path.join(DATA_DIR, \"bcsc_feature_encoders.pkl\")\n",
    "joblib.dump(model, MODEL_PATH)\n",
    "print(f\"Saved model to {MODEL_PATH}\")\n",
    "joblib.dump(feature_encoders, ENCODERS_PATH)\n",
    "print(f\"Saved feature encoders to {ENCODERS_PATH}\")\n",
    "\n",
    "if target_le is not None:\n",
    "    TARGET_PATH = os.path.join(DATA_DIR, \"bcsc_target_encoder.pkl\")\n",
    "    joblib.dump(target_le, TARGET_PATH)\n",
    "    print(f\"Saved target encoder to {TARGET_PATH}\")\n",
    "\n"
   ]
  },
  {
   "cell_type": "code",
   "execution_count": null,
   "id": "75ba1223-2d2f-48a7-92ad-7d9b011df80b",
   "metadata": {},
   "outputs": [],
   "source": []
  }
 ],
 "metadata": {
  "kernelspec": {
   "display_name": "Python [conda env:base] *",
   "language": "python",
   "name": "conda-base-py"
  },
  "language_info": {
   "codemirror_mode": {
    "name": "ipython",
    "version": 3
   },
   "file_extension": ".py",
   "mimetype": "text/x-python",
   "name": "python",
   "nbconvert_exporter": "python",
   "pygments_lexer": "ipython3",
   "version": "3.12.3"
  }
 },
 "nbformat": 4,
 "nbformat_minor": 5
}
