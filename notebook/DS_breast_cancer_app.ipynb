{
 "cells": [
  {
   "cell_type": "code",
   "execution_count": 1,
   "id": "6b87db56-07e7-4aa9-90db-17fc324cc129",
   "metadata": {},
   "outputs": [
    {
     "name": "stdout",
     "output_type": "stream",
     "text": [
      "Requirement already satisfied: joblib in c:\\users\\vetdd\\anaconda3\\lib\\site-packages (1.4.2)\n"
     ]
    }
   ],
   "source": [
    "!pip install joblib\n",
    "import pandas as pd\n",
    "import numpy as np\n",
    "import matplotlib.pyplot as plt\n",
    "import seaborn as sns\n",
    "import streamlit as st\n",
    "import joblib\n",
    "from sklearn.cluster import KMeans\n",
    "from sklearn.pipeline import Pipeline\n",
    "from sklearn.preprocessing import StandardScaler, OneHotEncoder\n",
    "from sklearn.compose import ColumnTransformer\n",
    "from sklearn.model_selection import train_test_split\n",
    "from sklearn.metrics import r2_score, mean_squared_error, root_mean_squared_error, mean_absolute_error, mean_absolute_percentage_error, classification_report, confusion_matrix,accuracy_score \n",
    "from datetime import timedelta\n",
    "from sklearn.ensemble import RandomForestClassifier\n",
    "from sklearn.preprocessing import LabelEncoder\n",
    "from xgboost import XGBClassifier\n",
    "from sklearn.datasets import load_breast_cancer\n"
   ]
  },
  {
   "cell_type": "code",
   "execution_count": null,
   "id": "1bf6c712-dafe-4357-9dc5-e2397e53597a",
   "metadata": {},
   "outputs": [
    {
     "name": "stdout",
     "output_type": "stream",
     "text": [
      "Requirement already satisfied: lifelines in c:\\users\\vetdd\\anaconda3\\lib\\site-packages (0.30.0)\n",
      "Requirement already satisfied: numpy>=1.14.0 in c:\\users\\vetdd\\anaconda3\\lib\\site-packages (from lifelines) (1.26.4)\n",
      "Requirement already satisfied: scipy>=1.7.0 in c:\\users\\vetdd\\anaconda3\\lib\\site-packages (from lifelines) (1.13.1)\n",
      "Requirement already satisfied: pandas>=2.1 in c:\\users\\vetdd\\anaconda3\\lib\\site-packages (from lifelines) (2.2.2)\n",
      "Requirement already satisfied: matplotlib>=3.0 in c:\\users\\vetdd\\anaconda3\\lib\\site-packages (from lifelines) (3.9.2)\n",
      "Requirement already satisfied: autograd>=1.5 in c:\\users\\vetdd\\anaconda3\\lib\\site-packages (from lifelines) (1.7.0)\n",
      "Requirement already satisfied: autograd-gamma>=0.3 in c:\\users\\vetdd\\anaconda3\\lib\\site-packages (from lifelines) (0.5.0)\n",
      "Requirement already satisfied: formulaic>=0.2.2 in c:\\users\\vetdd\\anaconda3\\lib\\site-packages (from lifelines) (1.1.1)\n",
      "Requirement already satisfied: interface-meta>=1.2.0 in c:\\users\\vetdd\\anaconda3\\lib\\site-packages (from formulaic>=0.2.2->lifelines) (1.3.0)\n",
      "Requirement already satisfied: typing-extensions>=4.2.0 in c:\\users\\vetdd\\anaconda3\\lib\\site-packages (from formulaic>=0.2.2->lifelines) (4.11.0)\n",
      "Requirement already satisfied: wrapt>=1.0 in c:\\users\\vetdd\\anaconda3\\lib\\site-packages (from formulaic>=0.2.2->lifelines) (1.14.1)\n",
      "Requirement already satisfied: contourpy>=1.0.1 in c:\\users\\vetdd\\anaconda3\\lib\\site-packages (from matplotlib>=3.0->lifelines) (1.2.0)\n",
      "Requirement already satisfied: cycler>=0.10 in c:\\users\\vetdd\\anaconda3\\lib\\site-packages (from matplotlib>=3.0->lifelines) (0.11.0)\n",
      "Requirement already satisfied: fonttools>=4.22.0 in c:\\users\\vetdd\\anaconda3\\lib\\site-packages (from matplotlib>=3.0->lifelines) (4.51.0)\n",
      "Requirement already satisfied: kiwisolver>=1.3.1 in c:\\users\\vetdd\\anaconda3\\lib\\site-packages (from matplotlib>=3.0->lifelines) (1.4.4)\n",
      "Requirement already satisfied: packaging>=20.0 in c:\\users\\vetdd\\anaconda3\\lib\\site-packages (from matplotlib>=3.0->lifelines) (24.1)\n",
      "Requirement already satisfied: pillow>=8 in c:\\users\\vetdd\\anaconda3\\lib\\site-packages (from matplotlib>=3.0->lifelines) (10.4.0)\n",
      "Requirement already satisfied: pyparsing>=2.3.1 in c:\\users\\vetdd\\anaconda3\\lib\\site-packages (from matplotlib>=3.0->lifelines) (3.1.2)\n",
      "Requirement already satisfied: python-dateutil>=2.7 in c:\\users\\vetdd\\anaconda3\\lib\\site-packages (from matplotlib>=3.0->lifelines) (2.9.0.post0)\n",
      "Requirement already satisfied: pytz>=2020.1 in c:\\users\\vetdd\\anaconda3\\lib\\site-packages (from pandas>=2.1->lifelines) (2024.1)\n",
      "Requirement already satisfied: tzdata>=2022.7 in c:\\users\\vetdd\\anaconda3\\lib\\site-packages (from pandas>=2.1->lifelines) (2023.3)\n",
      "Requirement already satisfied: six>=1.5 in c:\\users\\vetdd\\anaconda3\\lib\\site-packages (from python-dateutil>=2.7->matplotlib>=3.0->lifelines) (1.16.0)\n"
     ]
    }
   ],
   "source": [
    "!pip install lifelines\n",
    "!conda update lifelines\n",
    "from lifelines.datasets import load_metabric\n",
    "breast_cancer = load_metabric()\n",
    "breast_cancer.to_csv('breast_cancer_metabric.csv', index=False)\n",
    "breast_cancer = pd.DataFrame(data.data, columns=data.feature_names)"
   ]
  },
  {
   "cell_type": "code",
   "execution_count": null,
   "id": "558e4f8f-3cb3-424d-b11a-43582b679b02",
   "metadata": {},
   "outputs": [],
   "source": [
    "#!pip install ucimlrepo\n",
    "#from ucimlrepo import fetch_ucirepo \n",
    "  \n",
    "\n",
    "#breast_cancer_wisconsin_diagnostic = fetch_ucirepo(id=17) \n",
    "  \n",
    "#X = breast_cancer_wisconsin_diagnostic.data.features \n",
    "#y = breast_cancer_wisconsin_diagnostic.data.targets \n",
    "  \n"
   ]
  },
  {
   "cell_type": "code",
   "execution_count": null,
   "id": "369825cd-4f95-4a11-b2ed-b8a4c982a2f4",
   "metadata": {},
   "outputs": [],
   "source": [
    "x_train, x_test, y_train, y_test = train_test_split(X, y, stratify=y, test_size=0.2)\n",
    "model = XGBClassifier(use_label_encoder=False, eval_metric=\"mlogloss')\n",
    "model.fit(X_train, y_train)\n",
    "y_pred = model.predict(X_test)\n",
    "print(classification_report(y_test, y_pred))"
   ]
  },
  {
   "cell_type": "code",
   "execution_count": null,
   "id": "b3801b02-ebf6-49fb-8949-48bf72be7f21",
   "metadata": {},
   "outputs": [],
   "source": [
    "joblib.dump(model, 'xgb_breast_cancer_model.pkl')"
   ]
  },
  {
   "cell_type": "markdown",
   "id": "a0f42c21-c710-442c-8989-8d08687369f9",
   "metadata": {},
   "source": [
    "streamlit App code"
   ]
  },
  {
   "cell_type": "code",
   "execution_count": null,
   "id": "c84505ec-4181-4358-9c0b-368d74981718",
   "metadata": {},
   "outputs": [],
   "source": [
    "model = joblib.load('model name.pkl')\n",
    "def categorize_risk(prob):\n",
    "    if prob < 0.33:\n",
    "        return \"Low Risk\"\n",
    "    elif prob < 0.66 & prob > 0.33:\n",
    "        return \"Medium Risk\"\n",
    "    else:\n",
    "        return \"High Risk\"\n",
    "        \n",
    "st.title(\"Breast Cancer Risk Estimator\")\n",
    "st.write(\"Enter patient feature values:\")\n",
    "\n",
    "feature_names = ['col name1', 'col_name2']\n",
    "\n",
    "user_input = []\n",
    "for feature in feature_names:\n",
    "    value = st.number_input(f\"{feature}\", min_value=0.0)\n",
    "    user_input.append(value)\n",
    "\n",
    "if st.button(\"Predict Risk\"):\n",
    "    input_array = np.array(user_input).reshape(1,-1)  \n",
    "    prob = model.predict_proba(input_array)[0][1][2]\n",
    "    risk = categorize_risk(prob)\n",
    "    st.success(f'Predicted Risk Category: (Probability: {prob:.2f}\")\n",
    "joblib.dump(model, 'xgb_breast_cancer_model.pkl')"
   ]
  },
  {
   "cell_type": "code",
   "execution_count": null,
   "id": "ae19d6e0-a215-4cf2-9dd0-34ec76f48bca",
   "metadata": {},
   "outputs": [],
   "source": []
  },
  {
   "cell_type": "code",
   "execution_count": null,
   "id": "b0577523-c38d-421d-b00d-2c1fa454cdf7",
   "metadata": {},
   "outputs": [],
   "source": []
  }
 ],
 "metadata": {
  "kernelspec": {
   "display_name": "Python [conda env:base] *",
   "language": "python",
   "name": "conda-base-py"
  },
  "language_info": {
   "codemirror_mode": {
    "name": "ipython",
    "version": 3
   },
   "file_extension": ".py",
   "mimetype": "text/x-python",
   "name": "python",
   "nbconvert_exporter": "python",
   "pygments_lexer": "ipython3",
   "version": "3.12.3"
  }
 },
 "nbformat": 4,
 "nbformat_minor": 5
}
