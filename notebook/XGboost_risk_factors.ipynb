{
 "cells": [
  {
   "cell_type": "code",
   "execution_count": 1,
   "id": "6082fccf-c1d4-45b3-8ae7-4b3029b51da4",
   "metadata": {},
   "outputs": [
    {
     "name": "stdout",
     "output_type": "stream",
     "text": [
      "saved into the data folder\n"
     ]
    }
   ],
   "source": [
    "import pandas as pd\n",
    "bcsc_paths = [\n",
    "    \"../data/bcsc_risk_factors_summarized1_092020.csv\",\n",
    "    \"../data/bcsc_risk_factors_summarized2_092020.csv\",\n",
    "    \"../data/bcsc_risk_factors_summarized3_092020.csv\",\n",
    "]\n",
    "df_list = []\n",
    "for path in bcsc_paths:\n",
    "    bcsc = pd.read_csv(path)\n",
    "    df_list.append(bcsc)\n",
    "bcsc_df = pd.concat(df_list, ignore_index=True)\n",
    "\n",
    "bcsc_df_clean = (bcsc_df[~(bcsc_df.iloc[:, 2:12] == 9).any(axis=1)].reset_index(drop=True))\n",
    "bcsc_df_clean.to_csv(\"../data/bcsc_concatenated_no_hist9.csv\", index=False)\n",
    "print(f\"saved into the data folder\")"
   ]
  },
  {
   "cell_type": "code",
   "execution_count": 2,
   "id": "512aee58-f27b-4494-8bd8-8072e534e69c",
   "metadata": {},
   "outputs": [
    {
     "name": "stdout",
     "output_type": "stream",
     "text": [
      "Requirement already satisfied: xgboost in c:\\users\\vetdd\\anaconda3\\lib\\site-packages (3.0.0)\n",
      "Requirement already satisfied: numpy in c:\\users\\vetdd\\anaconda3\\lib\\site-packages (from xgboost) (1.26.4)\n",
      "Requirement already satisfied: scipy in c:\\users\\vetdd\\anaconda3\\lib\\site-packages (from xgboost) (1.13.1)\n"
     ]
    }
   ],
   "source": [
    "!pip install xgboost\n"
   ]
  },
  {
   "cell_type": "code",
   "execution_count": 3,
   "id": "728015b0-8d54-477c-a9e3-ba1f11eb7fd5",
   "metadata": {},
   "outputs": [
    {
     "name": "stdout",
     "output_type": "stream",
     "text": [
      "Training shape: (276051, 12), Test shape: (69013, 12)\n"
     ]
    },
    {
     "name": "stderr",
     "output_type": "stream",
     "text": [
      "C:\\Users\\vetdd\\anaconda3\\Lib\\site-packages\\xgboost\\training.py:183: UserWarning: [13:02:27] WARNING: C:\\actions-runner\\_work\\xgboost\\xgboost\\src\\learner.cc:738: \n",
      "Parameters: { \"use_label_encoder\" } are not used.\n",
      "\n",
      "  bst.update(dtrain, iteration=i, fobj=obj)\n"
     ]
    },
    {
     "name": "stdout",
     "output_type": "stream",
     "text": [
      "Model training finished.\n",
      "Classification Report:\n",
      "              precision    recall  f1-score   support\n",
      "\n",
      "           0       0.88      0.98      0.93     58427\n",
      "           1       0.67      0.26      0.38     10586\n",
      "\n",
      "    accuracy                           0.87     69013\n",
      "   macro avg       0.78      0.62      0.65     69013\n",
      "weighted avg       0.85      0.87      0.84     69013\n",
      "\n",
      "ROC AUC: 0.8843\n"
     ]
    },
    {
     "ename": "NameError",
     "evalue": "name 'DATA_DIR' is not defined",
     "output_type": "error",
     "traceback": [
      "\u001b[1;31m---------------------------------------------------------------------------\u001b[0m",
      "\u001b[1;31mNameError\u001b[0m                                 Traceback (most recent call last)",
      "Cell \u001b[1;32mIn[3], line 48\u001b[0m\n\u001b[0;32m     45\u001b[0m     \u001b[38;5;28mprint\u001b[39m(\u001b[38;5;124m\"\u001b[39m\u001b[38;5;124mCould not compute ROC AUC (possible single-class).\u001b[39m\u001b[38;5;124m\"\u001b[39m)\n\u001b[0;32m     47\u001b[0m \u001b[38;5;66;03m# 12) Ensure data directory exists before saving\u001b[39;00m\n\u001b[1;32m---> 48\u001b[0m os\u001b[38;5;241m.\u001b[39mmakedirs(DATA_DIR, exist_ok\u001b[38;5;241m=\u001b[39m\u001b[38;5;28;01mTrue\u001b[39;00m)\n\u001b[0;32m     50\u001b[0m \u001b[38;5;66;03m# 13) Save artifacts\u001b[39;00m\n\u001b[0;32m     51\u001b[0m MODEL_PATH \u001b[38;5;241m=\u001b[39m os\u001b[38;5;241m.\u001b[39mpath\u001b[38;5;241m.\u001b[39mjoin(DATA_DIR, \u001b[38;5;124m\"\u001b[39m\u001b[38;5;124mbcsc_xgb_model.pkl\u001b[39m\u001b[38;5;124m\"\u001b[39m)\n",
      "\u001b[1;31mNameError\u001b[0m: name 'DATA_DIR' is not defined"
     ]
    }
   ],
   "source": [
    "import os\n",
    "import pandas as pd\n",
    "import numpy as np\n",
    "from sklearn.model_selection import train_test_split, RandomizedSearchCV\n",
    "from sklearn.preprocessing import LabelEncoder\n",
    "from sklearn.metrics import classification_report, roc_auc_score\n",
    "import xgboost as xgb\n",
    "import joblib\n",
    "\n",
    "df = pd.read_csv(\"../data/bcsc_concatenated_no_hist9.csv\")\n",
    "##Separate features (X) and target (y)\n",
    "X = df.drop(columns=[\"breast_cancer_history\"])\n",
    "y = df[\"breast_cancer_history\"]\n",
    "\n",
    "\n",
    "# 9) Train/Test split\n",
    "X_train, X_test, y_train, y_test = train_test_split(\n",
    "    X, y, test_size=0.20, random_state=42, stratify=y if len(np.unique(y))>1 else None\n",
    ")\n",
    "print(f\"Training shape: {X_train.shape}, Test shape: {X_test.shape}\")\n",
    "\n",
    "# 10) Train XGBoost classifier\n",
    "model = xgb.XGBClassifier(\n",
    "    n_estimators=100,\n",
    "    max_depth=4,\n",
    "    learning_rate=0.1,\n",
    "    subsample=0.8,\n",
    "    colsample_bytree=0.8,\n",
    "    use_label_encoder=False,\n",
    "    eval_metric=\"logloss\",\n",
    "    random_state=42\n",
    ")\n",
    "model.fit(X_train, y_train)\n",
    "print(\"Model training finished.\")\n",
    "\n",
    "# 11) Evaluate\n",
    "y_pred = model.predict(X_test)\n",
    "print(\"Classification Report:\")\n",
    "print(classification_report(y_test, y_pred))\n",
    "try:\n",
    "    y_pred_prob = model.predict_proba(X_test)[:, 1]\n",
    "    auc = roc_auc_score(y_test, y_pred_prob)\n",
    "    print(f\"ROC AUC: {auc:.4f}\")\n",
    "except:\n",
    "    print(\"Could not compute ROC AUC (possible single-class).\")\n",
    "\n",
    "# 12) Ensure data directory exists before saving\n",
    "os.makedirs(DATA_DIR, exist_ok=True)\n",
    "\n",
    "# 13) Save artifacts\n",
    "MODEL_PATH = os.path.join(DATA_DIR, \"bcsc_xgb_model.pkl\")\n",
    "ENCODERS_PATH = os.path.join(DATA_DIR, \"bcsc_feature_encoders.pkl\")\n",
    "joblib.dump(model, MODEL_PATH)\n",
    "print(f\"Saved model to {MODEL_PATH}\")\n",
    "joblib.dump(feature_encoders, ENCODERS_PATH)\n",
    "print(f\"Saved feature encoders to {ENCODERS_PATH}\")\n",
    "\n",
    "if target_le is not None:\n",
    "    TARGET_PATH = os.path.join(DATA_DIR, \"bcsc_target_encoder.pkl\")\n",
    "    joblib.dump(target_le, TARGET_PATH)\n",
    "    print(f\"Saved target encoder to {TARGET_PATH}\")\n"
   ]
  },
  {
   "cell_type": "code",
   "execution_count": null,
   "id": "1380a273-669a-412d-ae5b-90e64403b1ec",
   "metadata": {},
   "outputs": [],
   "source": [
    "import os\n",
    "import pandas as pd\n",
    "import numpy as np\n",
    "from sklearn.model_selection import train_test_split, RandomizedSearchCV\n",
    "from sklearn.metrics import classification_report, roc_auc_score\n",
    "import xgboost as xgb\n",
    "import joblib\n",
    "\n",
    "# 1) Load data\n",
    "DATA_DIR = \"data\"\n",
    "df = pd.read_csv(os.path.join(DATA_DIR, \"bcsc_concatenated_no_hist9.csv\"))\n",
    "X = df.drop(columns=\"breast_cancer_history\")\n",
    "y = df[\"breast_cancer_history\"]\n",
    "\n",
    "# 2) Train/valid/test split\n",
    "X_train, X_temp, y_train, y_temp = train_test_split(\n",
    "    X, y, test_size=0.30, stratify=y, random_state=42\n",
    ")\n",
    "X_valid, X_test, y_valid, y_test = train_test_split(\n",
    "    X_temp, y_temp, test_size=0.50, stratify=y_temp, random_state=42\n",
    ")\n",
    "\n",
    "# 3) Compute pos‐weight\n",
    "neg, pos = np.bincount(y_train)\n",
    "scale_pos_weight = neg / pos\n",
    "\n",
    "# 4) Set up classifier & hyperparam search (no early-stopping here!)\n",
    "base_clf = xgb.XGBClassifier(\n",
    "    objective=\"binary:logistic\",\n",
    "    use_label_encoder=False,\n",
    "    eval_metric=\"auc\",\n",
    "    scale_pos_weight=scale_pos_weight,\n",
    "    random_state=42,\n",
    ")\n",
    "\n",
    "param_dist = {\n",
    "    \"n_estimators\":    [100, 300, 500],\n",
    "    \"max_depth\":       [3, 5, 7],\n",
    "    \"learning_rate\":   [0.01, 0.05, 0.1],\n",
    "    \"subsample\":       [0.6, 0.8, 1.0],\n",
    "    \"colsample_bytree\":[0.6, 0.8, 1.0],\n",
    "    \"gamma\":           [0, 1, 5],\n",
    "}\n",
    "\n",
    "search = RandomizedSearchCV(\n",
    "    estimator=base_clf,\n",
    "    param_distributions=param_dist,\n",
    "    n_iter=20,\n",
    "    scoring=\"roc_auc\",\n",
    "    cv=3,\n",
    "    verbose=2,\n",
    "    random_state=42,\n",
    "    n_jobs=-1\n",
    ")\n",
    "\n",
    "# 5) Fit search on TRAIN only\n",
    "search.fit(X_train, y_train)\n",
    "print(\"Best hyperparameters:\", search.best_params_)\n",
    "\n",
    "# 6) Take best estimator and refit with early stopping on train+valid\n",
    "best = search.best_estimator_\n",
    "best.set_params(use_label_encoder=None, n_estimators=10000)\n",
    "best.fit(\n",
    "    X_train, y_train,\n",
    "    eval_set=[(X_valid, y_valid)],\n",
    "    eval_metric=\"auc\",\n",
    "    callbacks=[\n",
    "        xgb.callback.EarlyStopping(rounds=25, save_best=True)],\n",
    "    verbose=False\n",
    ")\n",
    "\n",
    "# 7) Evaluate on TEST\n",
    "y_pred      = best.predict(X_test)\n",
    "y_pred_prob = best.predict_proba(X_test)[:, 1]\n",
    "\n",
    "print(classification_report(y_test, y_pred))\n",
    "print(\"Test ROC AUC:\", roc_auc_score(y_test, y_pred_prob))\n",
    "\n",
    "# 8) Save\n",
    "os.makedirs(DATA_DIR, exist_ok=True)\n",
    "joblib.dump(best, os.path.join(DATA_DIR, \"bcsc_xgb_model.pkl\"))\n",
    "print(\"Saved model to\", os.path.join(DATA_DIR, \"bcsc_xgb_model.pkl\"))\n"
   ]
  },
  {
   "cell_type": "code",
   "execution_count": null,
   "id": "5fcabfca-28c3-4a63-a333-ef8922b49879",
   "metadata": {},
   "outputs": [],
   "source": []
  }
 ],
 "metadata": {
  "kernelspec": {
   "display_name": "Python [conda env:base] *",
   "language": "python",
   "name": "conda-base-py"
  },
  "language_info": {
   "codemirror_mode": {
    "name": "ipython",
    "version": 3
   },
   "file_extension": ".py",
   "mimetype": "text/x-python",
   "name": "python",
   "nbconvert_exporter": "python",
   "pygments_lexer": "ipython3",
   "version": "3.12.3"
  }
 },
 "nbformat": 4,
 "nbformat_minor": 5
}
